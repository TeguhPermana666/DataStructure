{
 "cells": [
  {
   "cell_type": "markdown",
   "metadata": {},
   "source": [
    "# 1. Algorithm Add two numbers entered by the user\n",
    "- Step 1: Start\n",
    "- Step 2: Declare variables num1, num2 and sum. \n",
    "- Step 3: Read values num1 and num2. \n",
    "- Step 4: Add num1 and num2 and assign the result to sum.\n",
    "        - sum←num1+num2 \n",
    "- Step 5: Display sum \n",
    "- Step 6: Stop"
   ]
  },
  {
   "cell_type": "code",
   "execution_count": 1,
   "metadata": {},
   "outputs": [
    {
     "name": "stdout",
     "output_type": "stream",
     "text": [
      "5\n"
     ]
    }
   ],
   "source": [
    "def add(num_1, num_2):\n",
    "    sum = num_1 + num_2\n",
    "    return sum\n",
    "\n",
    "print(add(2,3))"
   ]
  },
  {
   "cell_type": "markdown",
   "metadata": {},
   "source": [
    "# 2. Algorithm: Find the largest number among three numbers\n",
    "- Step 1: Start\n",
    "- Step 2: Declare variables a,b and c.\n",
    "- Step 3: Read variables a,b and c.\n",
    "- Step 4: \n",
    "- If a > b\n",
    "   - If a > c\n",
    "      - Display a is the largest number.\n",
    "   - Else\n",
    "      - Display c is the largest number.\n",
    "- Else\n",
    "   - If b > c\n",
    "      - Display b is the largest number.\n",
    "   - Else\n",
    "      - Display c is the greatest number.  \n",
    "- Step 5: Stop"
   ]
  },
  {
   "cell_type": "code",
   "execution_count": 7,
   "metadata": {},
   "outputs": [
    {
     "name": "stdout",
     "output_type": "stream",
     "text": [
      "30 is the largest number\n"
     ]
    }
   ],
   "source": [
    "def largest_number(a,b,c):\n",
    "    if a > b:\n",
    "        if a>c:\n",
    "            print(f\"{a} is the largest number\")\n",
    "        else:\n",
    "            print(f\"{c} is the largest number\")\n",
    "    else:\n",
    "        if b>c:\n",
    "            print(f\"{b} is the largest number\")\n",
    "        else:\n",
    "            print(f\"{c} is the largest number\")\n",
    "\n",
    "largest_number(10,20,30)"
   ]
  },
  {
   "cell_type": "markdown",
   "metadata": {},
   "source": [
    "# 3. Algorithm FInd roots of a quadratic equation \n",
    "ax2 + bx + c = 0"
   ]
  },
  {
   "cell_type": "code",
   "execution_count": 9,
   "metadata": {},
   "outputs": [
    {
     "name": "stdout",
     "output_type": "stream",
     "text": [
      "The roots are -0.5 and -1.0\n"
     ]
    }
   ],
   "source": [
    "import math\n",
    "\n",
    "def calculate_roots(a,b,c):\n",
    "    # Declare variable\n",
    "    D = 0\n",
    "    x1 = x2 = 0\n",
    "    rp = ip = 0\n",
    "    \n",
    "    # Calculate discriminant\n",
    "    D = b**2 - 4*a*c\n",
    "    \n",
    "    # Check Discriminant\n",
    "    if D >= 0 :\n",
    "        # Real roots\n",
    "        x1 = (-b + math.sqrt(D)) / (2*a)\n",
    "        x2 = (-b - math.sqrt(D)) / (2*a)\n",
    "        print(f\"The roots are {x1} and {x2}\")\n",
    "\n",
    "    else:\n",
    "        #Comples roots\n",
    "        rp = -b / (2*a)\n",
    "        ip = math.sqrt(-D) / (2*a)\n",
    "        print(f\"Roots are complex and different: x1 = {rp} + {ip}j, x2 = {rp} - {ip}j\")\n",
    "\n",
    "calculate_roots(2,3,1)"
   ]
  },
  {
   "cell_type": "markdown",
   "metadata": {},
   "source": [
    "# Algorithm 4. Find the factorial of a number\n",
    "- Step 1: Start\n",
    "- Step 2: Declare variables n, factorial and i.\n",
    "- Step 3: Initialize variables\n",
    "          \n",
    "     - factorial ← 1\n",
    "          \n",
    "     - i ← 1\n",
    "- Step 4: Read value of n\n",
    "- Step 5: Repeat the steps until i = n\n",
    "     \n",
    "     - 5.1: factorial ← factorial*i\n",
    "     \n",
    "     - 5.2: i ← i+1\n",
    "- Step 6: Display factorial\n",
    "- Step 7: Stop"
   ]
  },
  {
   "cell_type": "code",
   "execution_count": 11,
   "metadata": {},
   "outputs": [
    {
     "name": "stdout",
     "output_type": "stream",
     "text": [
      "120\n"
     ]
    }
   ],
   "source": [
    "def factorial_number(n, i=1, factorial = 1):\n",
    "    for i in range(1, n+1):\n",
    "        factorial *= i \n",
    "    return factorial\n",
    "print(factorial_number(5)) # 5! => 5.4.3.2.1 = 120"
   ]
  },
  {
   "cell_type": "markdown",
   "metadata": {},
   "source": [
    "# 5. Algorithm: Check whether a number is prime or not\n",
    "- Step 1: Start\n",
    "- Step 2: Declare variables n, i, flag.\n",
    "- Step 3: Initialize variables\n",
    "    - flag ← 1\n",
    "    - i ← 2  \n",
    "- Step 4: Read n from the user.\n",
    "- Step 5: Repeat the steps until i=(n/2)\n",
    "     - 5.1 If remainder of n÷i equals 0\n",
    "        - flag ← 0\n",
    "        - Go to step 6\n",
    "     - 5.2 i ← i+1\n",
    "- Step 6: If flag = 0\n",
    "    - Display n is not prime\n",
    "    - else\n",
    "        - Display n is prime\n",
    "- Step 7: Stop "
   ]
  },
  {
   "cell_type": "code",
   "execution_count": 14,
   "metadata": {},
   "outputs": [
    {
     "name": "stdout",
     "output_type": "stream",
     "text": [
      "Number is prime\n"
     ]
    }
   ],
   "source": [
    "def check_number_prime(n,i=2,flag=1):\n",
    "    for i in range(2,n):\n",
    "        if n%i == 0:\n",
    "            flag = 0\n",
    "            break\n",
    "    if flag == 1:\n",
    "        print(\"Number is prime\")\n",
    "    else:\n",
    "        print(\"Number is not prime\")\n",
    "check_number_prime(13)"
   ]
  },
  {
   "cell_type": "markdown",
   "metadata": {},
   "source": [
    "# 6. Find the fibonacci series till the term less tahn 1000\n"
   ]
  },
  {
   "cell_type": "code",
   "execution_count": 15,
   "metadata": {},
   "outputs": [
    {
     "name": "stdout",
     "output_type": "stream",
     "text": [
      "0\n",
      "1\n",
      "1\n",
      "2\n",
      "3\n",
      "5\n",
      "8\n",
      "13\n",
      "21\n",
      "34\n",
      "55\n",
      "89\n",
      "144\n",
      "233\n",
      "377\n",
      "610\n",
      "987\n"
     ]
    }
   ],
   "source": [
    "def fibonacci_sequence(limit):\n",
    "    # Step 2: Declare variables\n",
    "    first_term = 0\n",
    "    second_term = 1\n",
    "    \n",
    "    # Step 4: Display first_term and second_term\n",
    "    print(first_term)\n",
    "    print(second_term)\n",
    "    \n",
    "    # Step 5: Repeat the steps until second_term ≤ limit\n",
    "    while second_term <= limit:\n",
    "        # Step 5.1: temp ← second_term\n",
    "        temp = second_term\n",
    "        # Step 5.2: second_term ← second_term + first_term\n",
    "        second_term = second_term + first_term\n",
    "        # Step 5.3: first_term ← temp\n",
    "        first_term = temp\n",
    "        # Step 5.4: Display second_term\n",
    "        if second_term <= limit:\n",
    "            print(second_term)\n",
    "    \n",
    "    # Step 6: Stop\n",
    "    return\n",
    "\n",
    "# Example usage\n",
    "fibonacci_sequence(1000)"
   ]
  }
 ],
 "metadata": {
  "kernelspec": {
   "display_name": "Python 3.9.9 ('env': venv)",
   "language": "python",
   "name": "python3"
  },
  "language_info": {
   "codemirror_mode": {
    "name": "ipython",
    "version": 3
   },
   "file_extension": ".py",
   "mimetype": "text/x-python",
   "name": "python",
   "nbconvert_exporter": "python",
   "pygments_lexer": "ipython3",
   "version": "3.9.13"
  },
  "orig_nbformat": 4,
  "vscode": {
   "interpreter": {
    "hash": "1d9910303eecfe3b6cdcbdaa4d482c9110c4a3a39e4f394d9897f708ec021033"
   }
  }
 },
 "nbformat": 4,
 "nbformat_minor": 2
}
