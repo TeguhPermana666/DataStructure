{
 "cells": [
  {
   "cell_type": "markdown",
   "metadata": {},
   "source": [
    "# Stack\n",
    "Link : https://www.programiz.com/dsa/stack \n",
    "\n",
    "=> `Last in first out` (LIFO)\n",
    "- Put a new plate on the top (push) \n",
    "- remove the top plate (pop)\n",
    "\n",
    "Time Coplexity\n",
    "- for the array Based on the implemention of a stack, push and pop operations take constant time O(1). "
   ]
  },
  {
   "cell_type": "markdown",
   "metadata": {},
   "source": [
    "### Basic Operations Stack\n",
    "- Push: Add an element to the top of the array stack\n",
    "- Pop : Remove the element from the top of a stack\n",
    "- IsEmpty: Check if the stack is empty\n",
    "- IsFull: Check if the stack is full\n",
    "- Peek: Get the value of the top element without removing it"
   ]
  },
  {
   "cell_type": "markdown",
   "metadata": {},
   "source": [
    "### Working Stack\n",
    "- Pointer TOP => keep track of the top element in the stack\n",
    "- Check Stack empety with TOP == -1 \n",
    "- on pushing, we increase the value of TOP and place new element with new TOP\n",
    "- on poping, we decrease the value of TOP and place new element with new TOP\n",
    "    - before pushing, check if the stack is already full\n",
    "    - before poping, check if the stack is already empty"
   ]
  },
  {
   "cell_type": "code",
   "execution_count": 21,
   "metadata": {},
   "outputs": [
    {
     "name": "stdout",
     "output_type": "stream",
     "text": [
      "Push Item : 1\n",
      "Push Item : 2\n",
      "Push Item : 3\n",
      "Push Item : 4\n",
      "Push Item : 5\n",
      "Pop Item : 5\n",
      "Push Item : 6\n",
      "Top Item : 1\n",
      "\n",
      "Stack:\n",
      "6\n",
      "4\n",
      "3\n",
      "2\n",
      "1\n"
     ]
    }
   ],
   "source": [
    "class Stack:\n",
    "    def __init__(self):\n",
    "        self.stack = []\n",
    "    \n",
    "    def isEmpty(self):\n",
    "        return len(self.stack) ==0\n",
    "    \n",
    "    def isFull(self):\n",
    "        return len(self.stack) >= 5\n",
    "    \n",
    "    def push(self, value):\n",
    "        if self.isFull() == False:\n",
    "            self.stack.append(value)\n",
    "            print(\"Push Item :\", value)\n",
    "        else:\n",
    "            print(\"Stack is Full\")\n",
    "    \n",
    "    def pop(self):\n",
    "        if self.isEmpty() == False:\n",
    "            top = self.stack[-1]\n",
    "            self.stack.pop()\n",
    "            print(\"Pop Item :\", top)\n",
    "        else:\n",
    "            print(\"Stack is Empty\")\n",
    "    def peek(self):\n",
    "        if self.isEmpty() == False:\n",
    "            print(\"Top Item :\", self.stack[0])\n",
    "        else:\n",
    "            print(\"Stack is Empty\")\n",
    "    def display(self):\n",
    "        print(\"\\nStack:\")\n",
    "        \n",
    "        [print(f\"{i}\") for i in reversed(self.stack)]\n",
    "\n",
    "stack = Stack()\n",
    "stack.push(1)\n",
    "stack.push(2)\n",
    "stack.push(3)\n",
    "stack.push(4)\n",
    "stack.push(5)\n",
    "\n",
    "stack.pop()\n",
    "stack.push(6)\n",
    "\n",
    "\n",
    "\n",
    "stack.peek()\n",
    "stack.display()"
   ]
  },
  {
   "cell_type": "markdown",
   "metadata": {},
   "source": [
    "# Apllication of Stack Data structure\n",
    "- To reverse a word\n",
    "- In compliers : expression to prefix or postfix form\n",
    "- in browsers: back button in a browser saves all the url you have visited previously in a stack"
   ]
  }
 ],
 "metadata": {
  "kernelspec": {
   "display_name": "Python 3.9.9 ('env': venv)",
   "language": "python",
   "name": "python3"
  },
  "language_info": {
   "codemirror_mode": {
    "name": "ipython",
    "version": 3
   },
   "file_extension": ".py",
   "mimetype": "text/x-python",
   "name": "python",
   "nbconvert_exporter": "python",
   "pygments_lexer": "ipython3",
   "version": "3.9.9"
  },
  "orig_nbformat": 4,
  "vscode": {
   "interpreter": {
    "hash": "1d9910303eecfe3b6cdcbdaa4d482c9110c4a3a39e4f394d9897f708ec021033"
   }
  }
 },
 "nbformat": 4,
 "nbformat_minor": 2
}
