{
 "cells": [
  {
   "cell_type": "markdown",
   "metadata": {},
   "source": [
    "# Hash Table\n",
    "=> Hash table data structure stores elements in key-value pairs, like dictionary\n",
    "- key : Unique integer that is used for indexing that value\n",
    "- value: data that are associated\n",
    "\n",
    "## Hashing\n",
    "=> new idex be processed to keys.\n",
    "- k be a key\n",
    "- h(x) be a hash function\n",
    "    - h(k) => new index to store the element linked with k\n",
    "\n",
    "## Problem\n",
    "=> The problem for hashing is `hash collision`, the hash function generates same index for multiple keys, resolve:\n",
    "- Collision resolution by chaining (combine with linked list)\n",
    "- Open addressing: Linear / Quadratic probing and double hashing"
   ]
  },
  {
   "cell_type": "markdown",
   "metadata": {},
   "source": [
    "### 1. Collision resolution by chaining\n",
    "- if a has function produces the same index for multiple key, these elements be stored in the same index by using double - linked list\n"
   ]
  },
  {
   "cell_type": "markdown",
   "metadata": {},
   "source": [
    "## 2. Open Addressing\n",
    "- doesn't store multiple elements into the same slot, here each slot is either filled with a single key\n",
    "\n",
    "### Linear probing\n",
    "h(k, i) = (h′(k) + i) mod m\n",
    "- i = { 0,1,2,3,....,}\n",
    "- h'(k) is a new hash function\n",
    "\n",
    "if a collision occurs at h(k,0), then h(k,1) is checked, the value of i is incremented linearly. that's why called by linear probing\n",
    "\n",
    "Problem : That cluster adjacent slots is fillled (bersebelahan) => need more time require.\n",
    "\n",
    "### Double Hashing\n",
    "=> if collision accours after applying a has function h(k), then another hash function calculated for finding the next slot\n",
    "\n",
    "h(k,i) h(1 (k) + 1 h2(k)) mod m"
   ]
  },
  {
   "cell_type": "markdown",
   "metadata": {},
   "source": [
    "## 3. Good Hash Function \n",
    "- Division Method\n",
    "h(k) = k mod m\n",
    "- Multiplication Method\n",
    "h(k) = |m(KA mod 1)|\n"
   ]
  },
  {
   "cell_type": "markdown",
   "metadata": {},
   "source": [
    "## 4. Universal Hashing\n",
    "=> chosen random independent of index"
   ]
  },
  {
   "cell_type": "code",
   "execution_count": 27,
   "metadata": {},
   "outputs": [
    {
     "data": {
      "text/plain": [
       "[[[10, 'Alice'], [20, 'Bob']], [], [], [], [], [], [], [], [], []]"
      ]
     },
     "execution_count": 27,
     "metadata": {},
     "output_type": "execute_result"
    }
   ],
   "source": [
    "table = [[] for _ in range(10)]\n",
    "table[0].append([10, \"Alice\"])\n",
    "for kvp in table[0]:\n",
    "    if kvp[0] == 20:\n",
    "        kvp[1] = \"Allice\"\n",
    "        break\n",
    "table[0].append([20, \"Bob\"])\n",
    "table"
   ]
  },
  {
   "cell_type": "code",
   "execution_count": 30,
   "metadata": {},
   "outputs": [
    {
     "name": "stdout",
     "output_type": "stream",
     "text": [
      "Alice\n",
      "Bob\n",
      "Charlie\n",
      "0: [[10, 'Alice'], [20, 'Bob'], [30, 'Charlie']]\n",
      "None\n",
      "0: [[10, 'Alice'], [30, 'Charlie']]\n"
     ]
    }
   ],
   "source": [
    "class HashTable:\n",
    "    def __init__(self,size=10):\n",
    "        self.size = size\n",
    "        # List comprehension\n",
    "        self.table = [[] for _ in range(size)]\n",
    "    \n",
    "    def _hash(self, key):\n",
    "       return key % self.size \n",
    "    \n",
    "    def insert(self, key, value):\n",
    "        index = self._hash(key)\n",
    "        \n",
    "        for kvp in self.table[index]:\n",
    "            # Check if key exists, update (collision case(same index) -> check key (same case for different))\n",
    "            if kvp[0] == key:\n",
    "                kvp[1] = value\n",
    "                return\n",
    "        # Append new key-value pair, if collision case, append the different key\n",
    "        self.table[index].append([key, value]) #[[10, 'Alice'], [20, 'Bob']] (key=0)\n",
    "    \n",
    "    def lookup(self, key):\n",
    "        index = self._hash(key)\n",
    "        # find the key with collision index\n",
    "        for kvp in self.table[index]:\n",
    "            if kvp[0] == key:\n",
    "                return kvp[1]\n",
    "        return None\n",
    "    \n",
    "    def delete(self, key):\n",
    "        index = self._hash(key)\n",
    "        for i, kvp in enumerate(self.table[index]):\n",
    "            if kvp[0] == key:\n",
    "                del self.table[index][i]\n",
    "                return True\n",
    "        return False\n",
    "    \n",
    "    def __str__(self):\n",
    "        result = []\n",
    "        for i, bucket in enumerate(self.table):\n",
    "            if bucket:\n",
    "                result.append(f\"{i}: {bucket}\")\n",
    "        return \"\\n\".join(result)\n",
    "\n",
    "# Example usage\n",
    "hash_table = HashTable()\n",
    "\n",
    "# Inserting key-value pairs\n",
    "hash_table.insert(10, \"Alice\")\n",
    "hash_table.insert(20, \"Bob\")\n",
    "hash_table.insert(30, \"Charlie\")\n",
    "\n",
    "# Looking up values\n",
    "print(hash_table.lookup(10))  # Output: Alice\n",
    "print(hash_table.lookup(20))  # Output: Bob\n",
    "print(hash_table.lookup(30))  # Output: Charlie\n",
    "\n",
    "# Print the hash table to see the collision handling\n",
    "print(hash_table)\n",
    "\n",
    "# Deleting a key-value pair\n",
    "hash_table.delete(20)\n",
    "print(hash_table.lookup(20))  # Output: None\n",
    "\n",
    "# Print the hash table again\n",
    "print(hash_table)"
   ]
  }
 ],
 "metadata": {
  "kernelspec": {
   "display_name": "Python 3.9.9 ('env': venv)",
   "language": "python",
   "name": "python3"
  },
  "language_info": {
   "codemirror_mode": {
    "name": "ipython",
    "version": 3
   },
   "file_extension": ".py",
   "mimetype": "text/x-python",
   "name": "python",
   "nbconvert_exporter": "python",
   "pygments_lexer": "ipython3",
   "version": "3.9.13"
  },
  "orig_nbformat": 4,
  "vscode": {
   "interpreter": {
    "hash": "1d9910303eecfe3b6cdcbdaa4d482c9110c4a3a39e4f394d9897f708ec021033"
   }
  }
 },
 "nbformat": 4,
 "nbformat_minor": 2
}
